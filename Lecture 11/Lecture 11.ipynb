{
 "cells": [
  {
   "attachments": {},
   "cell_type": "markdown",
   "metadata": {},
   "source": [
    "# <span style=\"color:darkblue\"> Lecture 11: Application 1 - Linear Regression </span>\n",
    "\n",
    "<font size = \"5\">\n",
    "\n",
    "We will fit statistical models to data\n",
    "\n",
    "- I will give an intro with minimal stats background\n",
    "- See the optional lecture file for advanced users\n",
    "\n",
    "The primary goal is to practice previous commands"
   ]
  },
  {
   "attachments": {},
   "cell_type": "markdown",
   "metadata": {},
   "source": [
    "# <span style=\"color:darkblue\"> I. Import Libraries </span>\n"
   ]
  },
  {
   "cell_type": "code",
   "execution_count": 3,
   "metadata": {},
   "outputs": [],
   "source": [
    "# The \"pandas\" library is used for processing datasets\n",
    "# The \"numpy\" is for numeric observations and random numbers\n",
    "# The \"matplotlib.pyplot\" library is for creating graphs\n",
    "\n",
    "import pandas as pd\n",
    "import numpy as np\n",
    "import matplotlib.pyplot as plt\n"
   ]
  },
  {
   "attachments": {},
   "cell_type": "markdown",
   "metadata": {},
   "source": [
    "<font size = \"5\">\n",
    "\n",
    "Install the \"statsmodels\" library\n",
    "- Run \"pip3 install statsmodels\" in the terminal\n",
    "- Automatically included in Anaconda"
   ]
  },
  {
   "cell_type": "code",
   "execution_count": 1,
   "metadata": {},
   "outputs": [],
   "source": [
    "# We will \"alias\" two sublibraries in \"statsmodels\"\n",
    "# \"statsmodels.formula.api\" contains functions to estimate models\n",
    "# \"statsmodels.api\" contains general-use statistical options\n",
    "\n",
    "import statsmodels.api as sm\n",
    "import statsmodels.formula.api as smf\n"
   ]
  },
  {
   "attachments": {},
   "cell_type": "markdown",
   "metadata": {},
   "source": [
    "# <span style=\"color:darkblue\"> II. Generate simulated Data </span>\n",
    "\n",
    "<font size = \"5\">\n",
    "\n",
    "Create an empty dataset"
   ]
  },
  {
   "cell_type": "code",
   "execution_count": 4,
   "metadata": {},
   "outputs": [],
   "source": [
    "dataset = pd.DataFrame([])"
   ]
  },
  {
   "attachments": {},
   "cell_type": "markdown",
   "metadata": {},
   "source": [
    "<font size = \"5\">\n",
    "\n",
    "Create two random variables of size ($n = 50$)"
   ]
  },
  {
   "cell_type": "code",
   "execution_count": 5,
   "metadata": {},
   "outputs": [],
   "source": [
    "n = 50\n",
    "dataset[\"x\"] = np.random.normal(loc = 0,scale = 1, size = n)\n",
    "dataset[\"e\"] = np.random.normal(loc = 0,scale = 1, size = n)\n"
   ]
  },
  {
   "attachments": {},
   "cell_type": "markdown",
   "metadata": {},
   "source": [
    "<font size = \"5\">\n",
    "\n",
    "Create data from the linear model\n",
    "\n",
    "$ y = b_0 + b_1 x + e, \\qquad b_0 = 1, b_1 = 2.$"
   ]
  },
  {
   "cell_type": "code",
   "execution_count": 6,
   "metadata": {},
   "outputs": [],
   "source": [
    "# The number b0 is known as the \"intercept\"\n",
    "# The number b1 is known as the \"slope\"\n",
    "\n",
    "b0 = 1\n",
    "b1 = 2\n",
    "\n",
    "# We can compute formulas directly over dataset columns\n",
    "dataset[\"y\"] = b0 + b1 * dataset[\"x\"] + dataset[\"e\"]"
   ]
  },
  {
   "attachments": {},
   "cell_type": "markdown",
   "metadata": {},
   "source": [
    "<font size = \"5\">\n",
    "\n",
    "Compute the theoretically best fit line\n",
    "\n",
    "$ p = b_0 + b_1 x$"
   ]
  },
  {
   "cell_type": "code",
   "execution_count": 8,
   "metadata": {},
   "outputs": [
    {
     "data": {
      "text/html": [
       "<div>\n",
       "<style scoped>\n",
       "    .dataframe tbody tr th:only-of-type {\n",
       "        vertical-align: middle;\n",
       "    }\n",
       "\n",
       "    .dataframe tbody tr th {\n",
       "        vertical-align: top;\n",
       "    }\n",
       "\n",
       "    .dataframe thead th {\n",
       "        text-align: right;\n",
       "    }\n",
       "</style>\n",
       "<table border=\"1\" class=\"dataframe\">\n",
       "  <thead>\n",
       "    <tr style=\"text-align: right;\">\n",
       "      <th></th>\n",
       "      <th>x</th>\n",
       "      <th>e</th>\n",
       "      <th>y</th>\n",
       "      <th>p</th>\n",
       "    </tr>\n",
       "  </thead>\n",
       "  <tbody>\n",
       "    <tr>\n",
       "      <th>0</th>\n",
       "      <td>0.423997</td>\n",
       "      <td>0.452551</td>\n",
       "      <td>2.300545</td>\n",
       "      <td>1.847994</td>\n",
       "    </tr>\n",
       "    <tr>\n",
       "      <th>1</th>\n",
       "      <td>0.501200</td>\n",
       "      <td>0.312757</td>\n",
       "      <td>2.315157</td>\n",
       "      <td>2.002400</td>\n",
       "    </tr>\n",
       "    <tr>\n",
       "      <th>2</th>\n",
       "      <td>-0.334259</td>\n",
       "      <td>-0.031310</td>\n",
       "      <td>0.300172</td>\n",
       "      <td>0.331482</td>\n",
       "    </tr>\n",
       "    <tr>\n",
       "      <th>3</th>\n",
       "      <td>-0.414556</td>\n",
       "      <td>0.682857</td>\n",
       "      <td>0.853745</td>\n",
       "      <td>0.170888</td>\n",
       "    </tr>\n",
       "    <tr>\n",
       "      <th>4</th>\n",
       "      <td>-0.999739</td>\n",
       "      <td>-1.254563</td>\n",
       "      <td>-2.254041</td>\n",
       "      <td>-0.999478</td>\n",
       "    </tr>\n",
       "    <tr>\n",
       "      <th>5</th>\n",
       "      <td>-0.399001</td>\n",
       "      <td>-0.808870</td>\n",
       "      <td>-0.606872</td>\n",
       "      <td>0.201999</td>\n",
       "    </tr>\n",
       "    <tr>\n",
       "      <th>6</th>\n",
       "      <td>0.719147</td>\n",
       "      <td>-1.324051</td>\n",
       "      <td>1.114243</td>\n",
       "      <td>2.438294</td>\n",
       "    </tr>\n",
       "    <tr>\n",
       "      <th>7</th>\n",
       "      <td>1.185231</td>\n",
       "      <td>1.017207</td>\n",
       "      <td>4.387669</td>\n",
       "      <td>3.370462</td>\n",
       "    </tr>\n",
       "    <tr>\n",
       "      <th>8</th>\n",
       "      <td>-0.146485</td>\n",
       "      <td>1.376683</td>\n",
       "      <td>2.083713</td>\n",
       "      <td>0.707030</td>\n",
       "    </tr>\n",
       "    <tr>\n",
       "      <th>9</th>\n",
       "      <td>0.225125</td>\n",
       "      <td>0.498355</td>\n",
       "      <td>1.948605</td>\n",
       "      <td>1.450250</td>\n",
       "    </tr>\n",
       "    <tr>\n",
       "      <th>10</th>\n",
       "      <td>-0.299240</td>\n",
       "      <td>-0.214516</td>\n",
       "      <td>0.187003</td>\n",
       "      <td>0.401519</td>\n",
       "    </tr>\n",
       "    <tr>\n",
       "      <th>11</th>\n",
       "      <td>0.337899</td>\n",
       "      <td>0.144596</td>\n",
       "      <td>1.820393</td>\n",
       "      <td>1.675797</td>\n",
       "    </tr>\n",
       "    <tr>\n",
       "      <th>12</th>\n",
       "      <td>-1.187408</td>\n",
       "      <td>0.421889</td>\n",
       "      <td>-0.952927</td>\n",
       "      <td>-1.374816</td>\n",
       "    </tr>\n",
       "    <tr>\n",
       "      <th>13</th>\n",
       "      <td>1.441479</td>\n",
       "      <td>-1.274188</td>\n",
       "      <td>2.608770</td>\n",
       "      <td>3.882959</td>\n",
       "    </tr>\n",
       "    <tr>\n",
       "      <th>14</th>\n",
       "      <td>-0.172765</td>\n",
       "      <td>-1.227297</td>\n",
       "      <td>-0.572826</td>\n",
       "      <td>0.654470</td>\n",
       "    </tr>\n",
       "    <tr>\n",
       "      <th>15</th>\n",
       "      <td>-2.253537</td>\n",
       "      <td>-0.372699</td>\n",
       "      <td>-3.879773</td>\n",
       "      <td>-3.507074</td>\n",
       "    </tr>\n",
       "    <tr>\n",
       "      <th>16</th>\n",
       "      <td>0.949379</td>\n",
       "      <td>-0.940638</td>\n",
       "      <td>1.958119</td>\n",
       "      <td>2.898757</td>\n",
       "    </tr>\n",
       "    <tr>\n",
       "      <th>17</th>\n",
       "      <td>1.237128</td>\n",
       "      <td>-1.291290</td>\n",
       "      <td>2.182966</td>\n",
       "      <td>3.474256</td>\n",
       "    </tr>\n",
       "    <tr>\n",
       "      <th>18</th>\n",
       "      <td>0.311440</td>\n",
       "      <td>0.491848</td>\n",
       "      <td>2.114729</td>\n",
       "      <td>1.622881</td>\n",
       "    </tr>\n",
       "    <tr>\n",
       "      <th>19</th>\n",
       "      <td>-0.175612</td>\n",
       "      <td>0.091953</td>\n",
       "      <td>0.740728</td>\n",
       "      <td>0.648775</td>\n",
       "    </tr>\n",
       "    <tr>\n",
       "      <th>20</th>\n",
       "      <td>-0.164417</td>\n",
       "      <td>-0.167256</td>\n",
       "      <td>0.503910</td>\n",
       "      <td>0.671166</td>\n",
       "    </tr>\n",
       "    <tr>\n",
       "      <th>21</th>\n",
       "      <td>1.467424</td>\n",
       "      <td>1.052129</td>\n",
       "      <td>4.986977</td>\n",
       "      <td>3.934848</td>\n",
       "    </tr>\n",
       "    <tr>\n",
       "      <th>22</th>\n",
       "      <td>0.424280</td>\n",
       "      <td>0.001617</td>\n",
       "      <td>1.850177</td>\n",
       "      <td>1.848560</td>\n",
       "    </tr>\n",
       "    <tr>\n",
       "      <th>23</th>\n",
       "      <td>0.277124</td>\n",
       "      <td>-0.826221</td>\n",
       "      <td>0.728027</td>\n",
       "      <td>1.554248</td>\n",
       "    </tr>\n",
       "    <tr>\n",
       "      <th>24</th>\n",
       "      <td>0.392022</td>\n",
       "      <td>-1.118918</td>\n",
       "      <td>0.665125</td>\n",
       "      <td>1.784043</td>\n",
       "    </tr>\n",
       "    <tr>\n",
       "      <th>25</th>\n",
       "      <td>1.605659</td>\n",
       "      <td>-0.228180</td>\n",
       "      <td>3.983139</td>\n",
       "      <td>4.211319</td>\n",
       "    </tr>\n",
       "    <tr>\n",
       "      <th>26</th>\n",
       "      <td>1.187072</td>\n",
       "      <td>1.560846</td>\n",
       "      <td>4.934990</td>\n",
       "      <td>3.374144</td>\n",
       "    </tr>\n",
       "    <tr>\n",
       "      <th>27</th>\n",
       "      <td>-0.497681</td>\n",
       "      <td>-1.512101</td>\n",
       "      <td>-1.507462</td>\n",
       "      <td>0.004639</td>\n",
       "    </tr>\n",
       "    <tr>\n",
       "      <th>28</th>\n",
       "      <td>-0.931366</td>\n",
       "      <td>-1.760586</td>\n",
       "      <td>-2.623319</td>\n",
       "      <td>-0.862733</td>\n",
       "    </tr>\n",
       "    <tr>\n",
       "      <th>29</th>\n",
       "      <td>0.590055</td>\n",
       "      <td>1.335463</td>\n",
       "      <td>3.515574</td>\n",
       "      <td>2.180110</td>\n",
       "    </tr>\n",
       "    <tr>\n",
       "      <th>30</th>\n",
       "      <td>0.586803</td>\n",
       "      <td>-0.213304</td>\n",
       "      <td>1.960301</td>\n",
       "      <td>2.173605</td>\n",
       "    </tr>\n",
       "    <tr>\n",
       "      <th>31</th>\n",
       "      <td>-1.662298</td>\n",
       "      <td>0.525719</td>\n",
       "      <td>-1.798878</td>\n",
       "      <td>-2.324596</td>\n",
       "    </tr>\n",
       "    <tr>\n",
       "      <th>32</th>\n",
       "      <td>0.374920</td>\n",
       "      <td>0.483986</td>\n",
       "      <td>2.233827</td>\n",
       "      <td>1.749841</td>\n",
       "    </tr>\n",
       "    <tr>\n",
       "      <th>33</th>\n",
       "      <td>-0.616754</td>\n",
       "      <td>-0.471964</td>\n",
       "      <td>-0.705473</td>\n",
       "      <td>-0.233509</td>\n",
       "    </tr>\n",
       "    <tr>\n",
       "      <th>34</th>\n",
       "      <td>0.445573</td>\n",
       "      <td>-0.906729</td>\n",
       "      <td>0.984417</td>\n",
       "      <td>1.891145</td>\n",
       "    </tr>\n",
       "    <tr>\n",
       "      <th>35</th>\n",
       "      <td>1.277019</td>\n",
       "      <td>0.690661</td>\n",
       "      <td>4.244699</td>\n",
       "      <td>3.554038</td>\n",
       "    </tr>\n",
       "    <tr>\n",
       "      <th>36</th>\n",
       "      <td>1.381138</td>\n",
       "      <td>0.617804</td>\n",
       "      <td>4.380080</td>\n",
       "      <td>3.762276</td>\n",
       "    </tr>\n",
       "    <tr>\n",
       "      <th>37</th>\n",
       "      <td>-0.847753</td>\n",
       "      <td>0.561551</td>\n",
       "      <td>-0.133955</td>\n",
       "      <td>-0.695505</td>\n",
       "    </tr>\n",
       "    <tr>\n",
       "      <th>38</th>\n",
       "      <td>-0.361971</td>\n",
       "      <td>-0.774837</td>\n",
       "      <td>-0.498778</td>\n",
       "      <td>0.276059</td>\n",
       "    </tr>\n",
       "    <tr>\n",
       "      <th>39</th>\n",
       "      <td>-0.100341</td>\n",
       "      <td>0.338260</td>\n",
       "      <td>1.137578</td>\n",
       "      <td>0.799318</td>\n",
       "    </tr>\n",
       "    <tr>\n",
       "      <th>40</th>\n",
       "      <td>-0.074859</td>\n",
       "      <td>0.221734</td>\n",
       "      <td>1.072015</td>\n",
       "      <td>0.850281</td>\n",
       "    </tr>\n",
       "    <tr>\n",
       "      <th>41</th>\n",
       "      <td>-0.331974</td>\n",
       "      <td>0.661473</td>\n",
       "      <td>0.997525</td>\n",
       "      <td>0.336052</td>\n",
       "    </tr>\n",
       "    <tr>\n",
       "      <th>42</th>\n",
       "      <td>-0.460940</td>\n",
       "      <td>-1.164327</td>\n",
       "      <td>-1.086207</td>\n",
       "      <td>0.078120</td>\n",
       "    </tr>\n",
       "    <tr>\n",
       "      <th>43</th>\n",
       "      <td>-0.968088</td>\n",
       "      <td>0.026591</td>\n",
       "      <td>-0.909585</td>\n",
       "      <td>-0.936175</td>\n",
       "    </tr>\n",
       "    <tr>\n",
       "      <th>44</th>\n",
       "      <td>-0.006483</td>\n",
       "      <td>0.425510</td>\n",
       "      <td>1.412545</td>\n",
       "      <td>0.987034</td>\n",
       "    </tr>\n",
       "    <tr>\n",
       "      <th>45</th>\n",
       "      <td>0.008284</td>\n",
       "      <td>-0.588755</td>\n",
       "      <td>0.427813</td>\n",
       "      <td>1.016567</td>\n",
       "    </tr>\n",
       "    <tr>\n",
       "      <th>46</th>\n",
       "      <td>1.894145</td>\n",
       "      <td>-1.096095</td>\n",
       "      <td>3.692196</td>\n",
       "      <td>4.788290</td>\n",
       "    </tr>\n",
       "    <tr>\n",
       "      <th>47</th>\n",
       "      <td>-1.652521</td>\n",
       "      <td>-1.161600</td>\n",
       "      <td>-3.466641</td>\n",
       "      <td>-2.305041</td>\n",
       "    </tr>\n",
       "    <tr>\n",
       "      <th>48</th>\n",
       "      <td>0.216841</td>\n",
       "      <td>-1.259380</td>\n",
       "      <td>0.174301</td>\n",
       "      <td>1.433681</td>\n",
       "    </tr>\n",
       "    <tr>\n",
       "      <th>49</th>\n",
       "      <td>0.107273</td>\n",
       "      <td>-0.434126</td>\n",
       "      <td>0.780419</td>\n",
       "      <td>1.214545</td>\n",
       "    </tr>\n",
       "  </tbody>\n",
       "</table>\n",
       "</div>"
      ],
      "text/plain": [
       "           x         e         y         p\n",
       "0   0.423997  0.452551  2.300545  1.847994\n",
       "1   0.501200  0.312757  2.315157  2.002400\n",
       "2  -0.334259 -0.031310  0.300172  0.331482\n",
       "3  -0.414556  0.682857  0.853745  0.170888\n",
       "4  -0.999739 -1.254563 -2.254041 -0.999478\n",
       "5  -0.399001 -0.808870 -0.606872  0.201999\n",
       "6   0.719147 -1.324051  1.114243  2.438294\n",
       "7   1.185231  1.017207  4.387669  3.370462\n",
       "8  -0.146485  1.376683  2.083713  0.707030\n",
       "9   0.225125  0.498355  1.948605  1.450250\n",
       "10 -0.299240 -0.214516  0.187003  0.401519\n",
       "11  0.337899  0.144596  1.820393  1.675797\n",
       "12 -1.187408  0.421889 -0.952927 -1.374816\n",
       "13  1.441479 -1.274188  2.608770  3.882959\n",
       "14 -0.172765 -1.227297 -0.572826  0.654470\n",
       "15 -2.253537 -0.372699 -3.879773 -3.507074\n",
       "16  0.949379 -0.940638  1.958119  2.898757\n",
       "17  1.237128 -1.291290  2.182966  3.474256\n",
       "18  0.311440  0.491848  2.114729  1.622881\n",
       "19 -0.175612  0.091953  0.740728  0.648775\n",
       "20 -0.164417 -0.167256  0.503910  0.671166\n",
       "21  1.467424  1.052129  4.986977  3.934848\n",
       "22  0.424280  0.001617  1.850177  1.848560\n",
       "23  0.277124 -0.826221  0.728027  1.554248\n",
       "24  0.392022 -1.118918  0.665125  1.784043\n",
       "25  1.605659 -0.228180  3.983139  4.211319\n",
       "26  1.187072  1.560846  4.934990  3.374144\n",
       "27 -0.497681 -1.512101 -1.507462  0.004639\n",
       "28 -0.931366 -1.760586 -2.623319 -0.862733\n",
       "29  0.590055  1.335463  3.515574  2.180110\n",
       "30  0.586803 -0.213304  1.960301  2.173605\n",
       "31 -1.662298  0.525719 -1.798878 -2.324596\n",
       "32  0.374920  0.483986  2.233827  1.749841\n",
       "33 -0.616754 -0.471964 -0.705473 -0.233509\n",
       "34  0.445573 -0.906729  0.984417  1.891145\n",
       "35  1.277019  0.690661  4.244699  3.554038\n",
       "36  1.381138  0.617804  4.380080  3.762276\n",
       "37 -0.847753  0.561551 -0.133955 -0.695505\n",
       "38 -0.361971 -0.774837 -0.498778  0.276059\n",
       "39 -0.100341  0.338260  1.137578  0.799318\n",
       "40 -0.074859  0.221734  1.072015  0.850281\n",
       "41 -0.331974  0.661473  0.997525  0.336052\n",
       "42 -0.460940 -1.164327 -1.086207  0.078120\n",
       "43 -0.968088  0.026591 -0.909585 -0.936175\n",
       "44 -0.006483  0.425510  1.412545  0.987034\n",
       "45  0.008284 -0.588755  0.427813  1.016567\n",
       "46  1.894145 -1.096095  3.692196  4.788290\n",
       "47 -1.652521 -1.161600 -3.466641 -2.305041\n",
       "48  0.216841 -1.259380  0.174301  1.433681\n",
       "49  0.107273 -0.434126  0.780419  1.214545"
      ]
     },
     "metadata": {},
     "output_type": "display_data"
    }
   ],
   "source": [
    "dataset[\"p\"] = b0 + b1*dataset[\"x\"]\n",
    "\n",
    "display(dataset)"
   ]
  },
  {
   "attachments": {},
   "cell_type": "markdown",
   "metadata": {},
   "source": [
    "<font size = \"5\">\n",
    "\n",
    "Plot the data"
   ]
  },
  {
   "cell_type": "code",
   "execution_count": 9,
   "metadata": {},
   "outputs": [
    {
     "data": {
      "image/png": "[encoded data removed]",
      "text/plain": [
       "<Figure size 640x480 with 1 Axes>"
      ]
     },
     "metadata": {},
     "output_type": "display_data"
    }
   ],
   "source": [
    "plt.scatter(x = dataset[\"x\"], y = dataset[\"y\"])\n",
    "plt.scatter(x = dataset[\"x\"], y = dataset[\"p\"])\n",
    "\n",
    "plt.xlabel(\"X Variable\")\n",
    "plt.ylabel(\"Y Variable\")\n",
    "plt.legend(labels = [\"Data points\", \"Best fit line\"])\n",
    "plt.show()\n"
   ]
  },
  {
   "attachments": {},
   "cell_type": "markdown",
   "metadata": {},
   "source": [
    "<font size = \"5\" >\n",
    "\n",
    "Try it yourself\n",
    "\n",
    "- Create a new dataset called $\\quad$```subset_above2``` \n",
    "- This subsets records with $y \\ge 2$ using $\\quad$```.query()```\n",
    "- Count the original rows $\\quad$ ```len(dataset)```\n",
    "- Count the subsetted rows $\\quad$ ```len(subset_above2)```\n",
    "- Compute the proportion of subsetted observations\n"
   ]
  },
  {
   "cell_type": "code",
   "execution_count": 11,
   "metadata": {},
   "outputs": [
    {
     "name": "stdout",
     "output_type": "stream",
     "text": [
      "0.3\n"
     ]
    }
   ],
   "source": [
    "# Write your own code here\n",
    "\n",
    "subset_above2 = dataset.query(\"y >= 2\")\n",
    "print( len(subset_above2)/len(dataset))\n"
   ]
  },
  {
   "attachments": {},
   "cell_type": "markdown",
   "metadata": {},
   "source": [
    "<font size = \"5\">\n",
    "\n",
    "Try it yourself!\n",
    "\n",
    "- Store the sample mean of $y$ as $\\quad$ ```ybar```\n",
    "- Compute the standard deviation of $y$ $\\quad$ ```stdv_sample```\n",
    "- Use ```.query()``` to subset observations that satisfy\n",
    "\n",
    "$ \\qquad abs\\left(y - ybar \\right) \\le stdv\\_sample $\n",
    "\n",
    "$\\quad$ HINT: Use ```.mean()```,$\\text{ }$ ```.std()``` <br>\n",
    "$\\quad$ HINT: Use the globals  $\\ $ ```@xbar```,$\\text{ }$ ```@stdv_sample```"
   ]
  },
  {
   "cell_type": "code",
   "execution_count": 12,
   "metadata": {},
   "outputs": [],
   "source": [
    "# Note: abs(...) is the absolute value function\n",
    "# Write your own code \n",
    "\n",
    "ybar        = dataset[\"y\"].mean()\n",
    "stdv_sample = dataset[\"y\"].std()\n",
    "subset_data = dataset.query(\"abs(y - @ybar) <= @stdv_sample\")\n",
    "\n"
   ]
  },
  {
   "attachments": {},
   "cell_type": "markdown",
   "metadata": {},
   "source": [
    "# <span style=\"color:darkblue\"> II. Estimate the best fit line</span>\n"
   ]
  },
  {
   "attachments": {},
   "cell_type": "markdown",
   "metadata": {},
   "source": [
    "<font size = \"5\">\n",
    "\n",
    "We have data on $(y,x)$ but we don't know $(b_0,b_1)$"
   ]
  },
  {
   "attachments": {},
   "cell_type": "markdown",
   "metadata": {},
   "source": [
    "<font size = \"5\">\n",
    "\n",
    "Let's fit an OLS model\n",
    "\n",
    "- It's a statistical approach to get $(b_0,b_1)$\n",
    "- No need to know how it works but why we want it"
   ]
  },
  {
   "cell_type": "code",
   "execution_count": 13,
   "metadata": {},
   "outputs": [],
   "source": [
    "#------------------------------------------------------------------------------#\n",
    "# We use the subfunction \"ols()\" in the library \"smf\"\n",
    "#---- (i) The first argument is a string called \"formula\" with the format \n",
    "#-------- \"outcome ~ indepdent_vars\"\n",
    "#----(ii) the second argument is the dataset\n",
    "# The second line fits the model with standard errors \"cov\". In this case we \n",
    "# use \"robust\" standard errors (HC1)\n",
    "#-------------------------------------------------------------------------------#\n",
    "\n",
    "model   = smf.ols(formula = 'y ~  x',data = dataset)\n",
    "results = model.fit(cov_type = \"HC1\")\n",
    "\n",
    "# Can also run as one line\n",
    "# results = smf.ols(formula = 'y ~ x',data = dataset).fit(cov = \"HC1\")\n"
   ]
  },
  {
   "attachments": {},
   "cell_type": "markdown",
   "metadata": {},
   "source": [
    "<font size = \"5\">\n",
    "\n",
    "Compute the estimated best fit line"
   ]
  },
  {
   "cell_type": "code",
   "execution_count": 15,
   "metadata": {},
   "outputs": [
    {
     "name": "stdout",
     "output_type": "stream",
     "text": [
      "Intercept    0.819794\n",
      "x            2.128791\n",
      "dtype: float64\n"
     ]
    }
   ],
   "source": [
    "# We will use \".params\" to get the attribute \"parameters from the results\"\n",
    "\n",
    "b_list = results.params\n",
    "print(b_list)\n",
    "\n",
    "# We can then compute the \"estimated\" best fit lines\n",
    "# by extracting the intercept and slop from \"b_list\"\n",
    "\n",
    "dataset[\"p_estimated\"] = b_list[0] + b_list[1]  * dataset[\"x\"]\n",
    "\n",
    "# Note: The estimators for \"b0\" and \"b1\" are close to \n",
    "# the values we used to generate the data\n"
   ]
  },
  {
   "attachments": {},
   "cell_type": "markdown",
   "metadata": {},
   "source": [
    "<font size = \"5\">\n",
    "\n",
    "Plot the best fit line"
   ]
  },
  {
   "cell_type": "code",
   "execution_count": 12,
   "metadata": {},
   "outputs": [
    {
     "data": {
      "image/png": "[encoded data removed]",
      "text/plain": [
       "<Figure size 640x480 with 1 Axes>"
      ]
     },
     "metadata": {},
     "output_type": "display_data"
    }
   ],
   "source": [
    "# Use scatter twice, with different \"y\" inputs\n",
    "# THe \"legend\" command creates a box on with the color labels\n",
    "\n",
    "plt.scatter(x = dataset[\"x\"],y = dataset[\"y\"])\n",
    "plt.scatter(x = dataset[\"x\"],y = dataset[\"p_estimated\"])\n",
    "\n",
    "plt.legend(labels = [\"Data points\",\"Estimated Predicted Model\"])\n",
    "plt.show()\n"
   ]
  },
  {
   "attachments": {},
   "cell_type": "markdown",
   "metadata": {},
   "source": [
    "<font size = \"5\">\n",
    "\n",
    "Try it yourself!\n",
    "- How good is the estimated fit?\n",
    "- Create two overlapping scatterplots\n",
    "- $(p \\text{ }$ vs $\\text{ } x)$ and $(p_{estimated} \\text{ }$ vs $\\text{ } x)$\n",
    "- Create a legend to label each plot"
   ]
  },
  {
   "cell_type": "code",
   "execution_count": 18,
   "metadata": {},
   "outputs": [
    {
     "data": {
      "image/png": "[encoded data removed]",
      "text/plain": [
       "<Figure size 640x480 with 1 Axes>"
      ]
     },
     "metadata": {},
     "output_type": "display_data"
    }
   ],
   "source": [
    "# Write your own code\n",
    "\n",
    "plt.scatter(x = dataset[\"x\"],y = dataset[\"p\"])\n",
    "plt.scatter(x = dataset[\"x\"],y = dataset[\"p_estimated\"])\n",
    "\n",
    "plt.legend(labels = [\"Theoeretical Best Prediction\",\"Estimated Predicted Model\"])\n",
    "plt.show()\n",
    "\n",
    "\n"
   ]
  },
  {
   "attachments": {},
   "cell_type": "markdown",
   "metadata": {},
   "source": [
    "<font size = \"5\">\n",
    "\n",
    "Try it youself\n",
    "\n",
    "- Compute a column with the formula\n",
    "\n",
    "$\\quad$ ``` sample_error = y - p_estimated```\n",
    "\n",
    "- Create a lambda function <br>\n",
    "\n",
    "$\\quad$ ``` fn_positive_error = lambda error: error >= 0  ```\n",
    "\n",
    "- Compute a column for whether the error is positive <br>\n",
    "using ``` .apply()```\n",
    "\n"
   ]
  },
  {
   "cell_type": "code",
   "execution_count": 17,
   "metadata": {},
   "outputs": [],
   "source": [
    "# Write your own code\n",
    "\n",
    "dataset[\"sample_error\"] = dataset[\"y\"] - dataset[\"p_estimated\"]\n",
    "fn_positive_error = lambda error: error >= 0\n",
    "dataset[\"error_positive\"] = dataset[\"sample_error\"].apply(fn_positive_error)\n",
    "\n"
   ]
  },
  {
   "attachments": {},
   "cell_type": "markdown",
   "metadata": {},
   "source": [
    "<font size = \"5\">\n",
    "\n",
    "Try it yourself\n",
    "\n",
    "- Compute a new column <br>\n",
    "\n",
    "```error_sqr = sample_error ** 2```\n",
    "\n",
    "- Calculate the mean of ```error_sqr```"
   ]
  },
  {
   "cell_type": "code",
   "execution_count": 18,
   "metadata": {},
   "outputs": [
    {
     "data": {
      "text/plain": [
       "0.7019088151578589"
      ]
     },
     "execution_count": 18,
     "metadata": {},
     "output_type": "execute_result"
    }
   ],
   "source": [
    "# Write your own code\n",
    "\n",
    "dataset[\"error_sqr\"] = dataset[\"sample_error\"]**2\n",
    "dataset[\"error_sqr\"].mean()\n",
    "\n",
    "\n",
    "\n"
   ]
  }
 ],
 "metadata": {
  "kernelspec": {
   "display_name": "base",
   "language": "python",
   "name": "python3"
  },
  "language_info": {
   "codemirror_mode": {
    "name": "ipython",
    "version": 3
   },
   "file_extension": ".py",
   "mimetype": "text/x-python",
   "name": "python",
   "nbconvert_exporter": "python",
   "pygments_lexer": "ipython3",
   "version": "3.9.13"
  },
  "orig_nbformat": 4,
  "vscode": {
   "interpreter": {
    "hash": "4d56bba32fb4ffc7c8af52a90d0b3f22f2ffcc554c7504b9aaa63eb9448e9335"
   }
  }
 },
 "nbformat": 4,
 "nbformat_minor": 2
}
